{
 "cells": [
  {
   "cell_type": "markdown",
   "metadata": {},
   "source": [
    "# PyTorch Tutorial"
   ]
  },
  {
   "cell_type": "markdown",
   "metadata": {},
   "source": [
    "## Tensors\n",
    "- Tensors are a data structure similar to arrays and matrices, in torch we use them to encode the inputs and outputs of a model, as well as the model's parameters\n",
    "- They are similar to ndarrays, but can run on GPUs, and are optimised for automatic differentiation"
   ]
  },
  {
   "cell_type": "code",
   "execution_count": 2,
   "metadata": {},
   "outputs": [],
   "source": [
    "import torch\n",
    "import numpy as np"
   ]
  },
  {
   "cell_type": "markdown",
   "metadata": {},
   "source": [
    "#### Initialisation"
   ]
  },
  {
   "cell_type": "markdown",
   "metadata": {},
   "source": [
    "We can initialise tensors in various ways, directly from data:"
   ]
  },
  {
   "cell_type": "code",
   "execution_count": 3,
   "metadata": {},
   "outputs": [],
   "source": [
    "data = [[1, 2], [3, 4]]\n",
    "x_data = torch.tensor(data)"
   ]
  },
  {
   "cell_type": "markdown",
   "metadata": {},
   "source": [
    "From a NumPy array"
   ]
  },
  {
   "cell_type": "code",
   "execution_count": 4,
   "metadata": {},
   "outputs": [],
   "source": [
    "np_array = np.array(data)\n",
    "x_np = torch.from_numpy(np_array)"
   ]
  },
  {
   "cell_type": "markdown",
   "metadata": {},
   "source": [
    "From another tensor"
   ]
  },
  {
   "cell_type": "code",
   "execution_count": 5,
   "metadata": {},
   "outputs": [
    {
     "name": "stdout",
     "output_type": "stream",
     "text": [
      "Ones Tensor: \n",
      " tensor([[1, 1],\n",
      "        [1, 1]]) \n",
      "\n",
      "Random Tensor: \n",
      " tensor([[0.4268, 0.4204],\n",
      "        [0.5741, 0.5577]]) \n",
      "\n"
     ]
    }
   ],
   "source": [
    "x_ones = torch.ones_like(x_data)\n",
    "print(f'Ones Tensor: \\n {x_ones} \\n')\n",
    "x_rand = torch.rand_like(x_data, dtype=torch.float)\n",
    "print(f'Random Tensor: \\n {x_rand} \\n')"
   ]
  },
  {
   "cell_type": "markdown",
   "metadata": {},
   "source": [
    "With random or constant values"
   ]
  },
  {
   "cell_type": "code",
   "execution_count": 6,
   "metadata": {},
   "outputs": [
    {
     "name": "stdout",
     "output_type": "stream",
     "text": [
      "Random Tensor: \n",
      " tensor([[0.1061, 0.4345, 0.1067],\n",
      "        [0.4661, 0.6964, 0.9460]]) \n",
      "\n",
      "Ones Tensor: \n",
      " tensor([[1., 1., 1.],\n",
      "        [1., 1., 1.]]) \n",
      "\n",
      "Zeros Tensor: \n",
      " tensor([[0., 0., 0.],\n",
      "        [0., 0., 0.]])\n"
     ]
    }
   ],
   "source": [
    "shape = (2,3,)\n",
    "rand_tensor = torch.rand(shape)\n",
    "ones_tensor = torch.ones(shape)\n",
    "zeros_tensor = torch.zeros(shape)\n",
    "\n",
    "print(f\"Random Tensor: \\n {rand_tensor} \\n\")\n",
    "print(f\"Ones Tensor: \\n {ones_tensor} \\n\")\n",
    "print(f\"Zeros Tensor: \\n {zeros_tensor}\")"
   ]
  },
  {
   "cell_type": "markdown",
   "metadata": {},
   "source": [
    "#### Attributes"
   ]
  },
  {
   "cell_type": "code",
   "execution_count": 7,
   "metadata": {},
   "outputs": [
    {
     "name": "stdout",
     "output_type": "stream",
     "text": [
      "Shape of tensor: torch.Size([3, 4])\n",
      "Datatype of tensor: torch.float32\n",
      "Device tensor is stored on: cpu\n"
     ]
    }
   ],
   "source": [
    "tensor = torch.rand(3,4)\n",
    "\n",
    "print(f'Shape of tensor: {tensor.shape}')\n",
    "print(f'Datatype of tensor: {tensor.dtype}')\n",
    "print(f'Device tensor is stored on: {tensor.device}')"
   ]
  },
  {
   "cell_type": "markdown",
   "metadata": {},
   "source": [
    "#### Operations"
   ]
  },
  {
   "cell_type": "markdown",
   "metadata": {},
   "source": [
    "By default, tensors are created on the CPU, we can move them to the GPU if cuda is available on the system"
   ]
  },
  {
   "cell_type": "code",
   "execution_count": 8,
   "metadata": {},
   "outputs": [
    {
     "name": "stdout",
     "output_type": "stream",
     "text": [
      "Tensor moved to GPU\n",
      "Device tensor is stored on: cuda:0\n"
     ]
    }
   ],
   "source": [
    "if torch.cuda.is_available():\n",
    "    tensor = tensor.to('cuda')\n",
    "    print('Tensor moved to GPU')\n",
    "else:\n",
    "    print('No GPU available, tensor remains on CPU')\n",
    "\n",
    "print(f'Device tensor is stored on: {tensor.device}')"
   ]
  },
  {
   "cell_type": "markdown",
   "metadata": {},
   "source": [
    "Standard numpy-like operations apply"
   ]
  },
  {
   "cell_type": "code",
   "execution_count": 9,
   "metadata": {},
   "outputs": [
    {
     "name": "stdout",
     "output_type": "stream",
     "text": [
      "First row: tensor([0.3831, 0.2075, 0.7678, 0.0966], device='cuda:0')\n",
      "First column: tensor([0.3831, 0.9010, 0.8896], device='cuda:0')\n",
      "tensor([[0.3831, 0.0000, 0.7678, 0.0966],\n",
      "        [0.9010, 0.0000, 0.6888, 0.6859],\n",
      "        [0.8896, 0.0000, 0.2968, 0.4025]], device='cuda:0')\n"
     ]
    }
   ],
   "source": [
    "print(f'First row: {tensor[0]}')\n",
    "print(f'First column: {tensor[:, 0]}')\n",
    "tensor[:, 1] = 0\n",
    "print(tensor)"
   ]
  },
  {
   "cell_type": "markdown",
   "metadata": {},
   "source": [
    "We can join tensors using `torch.cat`"
   ]
  },
  {
   "cell_type": "code",
   "execution_count": 10,
   "metadata": {},
   "outputs": [
    {
     "name": "stdout",
     "output_type": "stream",
     "text": [
      "tensor([[0.3831, 0.0000, 0.7678, 0.0966, 0.3831, 0.0000, 0.7678, 0.0966, 0.3831,\n",
      "         0.0000, 0.7678, 0.0966],\n",
      "        [0.9010, 0.0000, 0.6888, 0.6859, 0.9010, 0.0000, 0.6888, 0.6859, 0.9010,\n",
      "         0.0000, 0.6888, 0.6859],\n",
      "        [0.8896, 0.0000, 0.2968, 0.4025, 0.8896, 0.0000, 0.2968, 0.4025, 0.8896,\n",
      "         0.0000, 0.2968, 0.4025]], device='cuda:0')\n"
     ]
    }
   ],
   "source": [
    "t1 = torch.cat([tensor, tensor, tensor], dim=1)\n",
    "print(t1)"
   ]
  },
  {
   "cell_type": "markdown",
   "metadata": {},
   "source": [
    "We can apply arithmetic operations, such as matrix multiplication"
   ]
  },
  {
   "cell_type": "code",
   "execution_count": 11,
   "metadata": {},
   "outputs": [
    {
     "name": "stdout",
     "output_type": "stream",
     "text": [
      "y1: tensor([[0.7455, 0.9402, 0.6075],\n",
      "        [0.9402, 1.7567, 1.2820],\n",
      "        [0.6075, 1.2820, 1.0415]], device='cuda:0')\n",
      "y2: tensor([[0.7455, 0.9402, 0.6075],\n",
      "        [0.9402, 1.7567, 1.2820],\n",
      "        [0.6075, 1.2820, 1.0415]], device='cuda:0')\n",
      "y2: tensor([[0.7455, 0.9402, 0.6075],\n",
      "        [0.9402, 1.7567, 1.2820],\n",
      "        [0.6075, 1.2820, 1.0415]], device='cuda:0')\n"
     ]
    }
   ],
   "source": [
    "y1 = tensor @ tensor.T\n",
    "y2 = tensor.matmul(tensor.T)\n",
    "\n",
    "y3 = torch.rand_like(y1)\n",
    "torch.matmul(tensor, tensor.T, out=y3)\n",
    "\n",
    "print(f'y1: {y1}')\n",
    "print(f'y2: {y2}')\n",
    "print(f'y2: {y3}')"
   ]
  },
  {
   "cell_type": "markdown",
   "metadata": {},
   "source": [
    "element-wise multiplication"
   ]
  },
  {
   "cell_type": "code",
   "execution_count": 12,
   "metadata": {},
   "outputs": [
    {
     "name": "stdout",
     "output_type": "stream",
     "text": [
      "z1: tensor([[0.1467, 0.0000, 0.5895, 0.0093],\n",
      "        [0.8118, 0.0000, 0.4745, 0.4704],\n",
      "        [0.7915, 0.0000, 0.0881, 0.1620]], device='cuda:0')\n",
      "z2: tensor([[0.1467, 0.0000, 0.5895, 0.0093],\n",
      "        [0.8118, 0.0000, 0.4745, 0.4704],\n",
      "        [0.7915, 0.0000, 0.0881, 0.1620]], device='cuda:0')\n",
      "z3: tensor([[0.1467, 0.0000, 0.5895, 0.0093],\n",
      "        [0.8118, 0.0000, 0.4745, 0.4704],\n",
      "        [0.7915, 0.0000, 0.0881, 0.1620]], device='cuda:0')\n"
     ]
    }
   ],
   "source": [
    "z1 = tensor * tensor\n",
    "z2 = tensor.mul(tensor)\n",
    "\n",
    "z3 = torch.rand_like(tensor)\n",
    "torch.mul(tensor, tensor, out=z3)\n",
    "\n",
    "print(f'z1: {z1}')\n",
    "print(f'z2: {z2}')\n",
    "print(f'z3: {z3}')"
   ]
  },
  {
   "cell_type": "markdown",
   "metadata": {},
   "source": [
    "A single-element tensor can be converted into a python numerical value using `item()`"
   ]
  },
  {
   "cell_type": "code",
   "execution_count": 13,
   "metadata": {},
   "outputs": [
    {
     "name": "stdout",
     "output_type": "stream",
     "text": [
      "5.112013816833496 <class 'float'>\n"
     ]
    }
   ],
   "source": [
    "agg = tensor.sum()\n",
    "agg_item = agg.item()\n",
    "print(agg_item, type(agg_item))"
   ]
  },
  {
   "cell_type": "markdown",
   "metadata": {},
   "source": [
    "In-place operations are operations that store the result into the operand, and are denoted by a `_` suffix"
   ]
  },
  {
   "cell_type": "code",
   "execution_count": 14,
   "metadata": {},
   "outputs": [
    {
     "name": "stdout",
     "output_type": "stream",
     "text": [
      "tensor([[0.3831, 0.0000, 0.7678, 0.0966],\n",
      "        [0.9010, 0.0000, 0.6888, 0.6859],\n",
      "        [0.8896, 0.0000, 0.2968, 0.4025]], device='cuda:0') \n",
      "\n",
      "tensor([[5.3831, 5.0000, 5.7678, 5.0966],\n",
      "        [5.9010, 5.0000, 5.6888, 5.6859],\n",
      "        [5.8896, 5.0000, 5.2968, 5.4025]], device='cuda:0')\n"
     ]
    }
   ],
   "source": [
    "print(f'{tensor} \\n')\n",
    "tensor.add_(5)\n",
    "print(tensor)"
   ]
  },
  {
   "cell_type": "markdown",
   "metadata": {},
   "source": [
    "In place operations save some memory, but can be problematic when computing derivatives beacuse of an immediate loss of history, so better not to use them."
   ]
  },
  {
   "cell_type": "markdown",
   "metadata": {},
   "source": [
    "## Datasets and Dataloaders\n",
    "We want our dataset code to be decoupled from our model training code for better readability and modularity.\n",
    "\n",
    "PyTorch provides two data primitives, `torch.utils.data.DataLoader` and `torch.utils.data.Dataset` that allow you to use pre-loaded datasets as well as your own data. \n",
    "\n",
    "`Dataset` stores the samples and their corresponding labels, and `DataLoader` wraps an iterable around the `Dataset` to enable easy access to the samples.\n",
    "\n",
    "### Loading a Dataset\n",
    "\n",
    "We will use the `Fashion-MNIST` dataset from TorchVision as an example. "
   ]
  },
  {
   "cell_type": "code",
   "execution_count": 23,
   "metadata": {},
   "outputs": [],
   "source": [
    "import os\n",
    "\n",
    "import matplotlib.pyplot as plt\n",
    "import pandas as pd\n",
    "\n",
    "from torch import nn\n",
    "from torchvision import datasets, transforms\n",
    "from torch.utils.data import Dataset, DataLoader\n",
    "from torchvision.transforms import ToTensor, Lambda\n",
    "from torchvision.io import read_image"
   ]
  },
  {
   "cell_type": "code",
   "execution_count": 16,
   "metadata": {},
   "outputs": [],
   "source": [
    "training_data = datasets.FashionMNIST(\n",
    "    root=\"data\",\n",
    "    train=True,\n",
    "    download=True,\n",
    "    transform=ToTensor()\n",
    ")\n",
    "\n",
    "test_data = datasets.FashionMNIST(\n",
    "    root=\"data\",\n",
    "    train=False,\n",
    "    download=True,\n",
    "    transform=ToTensor()\n",
    ")"
   ]
  },
  {
   "cell_type": "markdown",
   "metadata": {},
   "source": [
    "### Iterating and Visualising the Dataset"
   ]
  },
  {
   "cell_type": "code",
   "execution_count": 17,
   "metadata": {},
   "outputs": [
    {
     "data": {
      "image/png": "[encoded data removed]",
      "text/plain": [
       "<Figure size 800x800 with 9 Axes>"
      ]
     },
     "metadata": {},
     "output_type": "display_data"
    }
   ],
   "source": [
    "labels_map = {\n",
    "    0: \"T-Shirt\",\n",
    "    1: \"Trouser\",\n",
    "    2: \"Pullover\",\n",
    "    3: \"Dress\",\n",
    "    4: \"Coat\",\n",
    "    5: \"Sandal\",\n",
    "    6: \"Shirt\",\n",
    "    7: \"Sneaker\",\n",
    "    8: \"Bag\",\n",
    "    9: \"Ankle Boot\"\n",
    "}\n",
    "\n",
    "figure = plt.figure(figsize=(8,8))\n",
    "cols, rows = 3, 3\n",
    "for i in range(1, cols * rows + 1):\n",
    "    sample_idx = torch.randint(len(training_data), size=(1,)).item()\n",
    "    img, label = training_data[sample_idx]\n",
    "\n",
    "    figure.add_subplot(rows, cols, i)\n",
    "    plt.title(labels_map[label])\n",
    "    plt.axis('off')\n",
    "    plt.imshow(img.squeeze(), cmap='gray')\n",
    "    \n",
    "plt.show()"
   ]
  },
  {
   "cell_type": "markdown",
   "metadata": {},
   "source": [
    "### Creating a custom dataset for your files\n",
    "\n",
    "A custom Dataset class must implement three functions, `__init__`, `__len__`, and `__getitem__`.\n",
    "\n",
    "- `__init__` function is run when instantiating the Dataset object\n",
    "- `__len__` function returns the number of samples in our dataset\n",
    "- `__getitem__` function loads and returns a sample from the dataset at the given index `idx`"
   ]
  },
  {
   "cell_type": "code",
   "execution_count": 18,
   "metadata": {},
   "outputs": [],
   "source": [
    "class CustomImageDataset(Dataset):\n",
    "    def __init__(self, annotations_file, img_dir, transform=None, target_transform=None):\n",
    "        self.img_labels = pd.read_csv(annotations_file)\n",
    "        self.img_dir = img_dir\n",
    "        self.transform = transform\n",
    "        self.target_transform = target_transform\n",
    "\n",
    "    def __len__(self):\n",
    "        return len(self.img_labels)\n",
    "    \n",
    "    def __getitem__(self, idx):\n",
    "        img_path = os.path.join(self.img_dir, self.img_labels.iloc[idx, 0])\n",
    "        image = read_image(img_path)\n",
    "        label = self.img_labels.iloc[idx, 1]\n",
    "\n",
    "        if self.transform:\n",
    "            image = self.transform(image)\n",
    "        if self.target_transform:\n",
    "            label = self.target_transform(label)\n",
    "\n",
    "        return image, label"
   ]
  },
  {
   "cell_type": "markdown",
   "metadata": {},
   "source": [
    "### Preparing data for training with DataLoaders\n",
    "\n",
    "The Dataset retrieves our dataset's features and labels one sample at a time. While training a model, we typically want to pass samples in 'minibatches', reshuffle the data at every epoch to reduce model overfitting, and use Python's multiprocessing to speed up data retrieval. "
   ]
  },
  {
   "cell_type": "code",
   "execution_count": 54,
   "metadata": {},
   "outputs": [],
   "source": [
    "train_dataloader = DataLoader(training_data, batch_size=64)\n",
    "test_dataloader = DataLoader(test_data, batch_size=64)"
   ]
  },
  {
   "cell_type": "markdown",
   "metadata": {},
   "source": [
    "`train_dataloader` is an iterable, each iteration returns a batch of `train_features` and `train_labels`.\n",
    "\n",
    "## Transforms\n",
    "Data does not always come in its final processed form that is required for training machine learning algorithms. We use transforms to perform some manipulation of the data and make it suitable for training.\n",
    "\n",
    "All TorchVision datasets have two parameters - `transform` to modify the features, and `target_transform` to modify the labels.\n",
    "\n",
    "`torchvision.transforms` offers several commonly used transforms out of the box. \n",
    "\n",
    "The FashionMNIST features are in PIL image format, and the labels are integers. We need the features as normalised tensors, and the labels as one-hot encoded tensors."
   ]
  },
  {
   "cell_type": "code",
   "execution_count": 22,
   "metadata": {},
   "outputs": [],
   "source": [
    "ds = datasets.FashionMNIST(\n",
    "    root=\"data\",\n",
    "    train=True,\n",
    "    download=True,\n",
    "    transform=ToTensor(),\n",
    "    target_transform=Lambda(lambda y: torch.zeros(10, dtype=torch.float).scatter_(0, torch.tensor(y), value=1))\n",
    ")"
   ]
  },
  {
   "cell_type": "markdown",
   "metadata": {},
   "source": [
    "## Build the Neural Network\n",
    "\n",
    "Neural networks comprise of layers/modules that perform operations on data. The `torch.nn` namespace provides all the building blocks you need to build your own neural network."
   ]
  },
  {
   "cell_type": "markdown",
   "metadata": {},
   "source": [
    "### Get Device for Training\n",
    "\n",
    "Check if `torch.cuda` or `torch.backend.mps` are available, otherwise use CPU."
   ]
  },
  {
   "cell_type": "code",
   "execution_count": 26,
   "metadata": {},
   "outputs": [
    {
     "name": "stdout",
     "output_type": "stream",
     "text": [
      "Using cuda device\n"
     ]
    }
   ],
   "source": [
    "device = (\n",
    "    \"cuda\"\n",
    "    if torch.cuda.is_available()\n",
    "    else \"mps\"\n",
    "    if torch.backends.mps.is_available()\n",
    "    else \"cpu\"\n",
    ")\n",
    "\n",
    "print(f\"Using {device} device\")"
   ]
  },
  {
   "cell_type": "markdown",
   "metadata": {},
   "source": [
    "### Define the Class\n",
    "\n",
    "We define our neural networks by subclassing `nn.Module`, and initialising the neural network layers in `__init__`. Every `nn.Module` subclass implements the operations on imput data in the `forward` method."
   ]
  },
  {
   "cell_type": "code",
   "execution_count": 30,
   "metadata": {},
   "outputs": [],
   "source": [
    "class NeuralNetwork(nn.Module):\n",
    "    def __init__(self):\n",
    "        # Call the constructor of the parent class\n",
    "        super().__init__()\n",
    "        # Convert the multidimensional input data into a flat vector\n",
    "        self.flatten = nn.Flatten()\n",
    "        # Define a sequence of layers that will be applied in order\n",
    "        self.linear_relu_stack = nn.Sequential(\n",
    "            nn.Linear(28*28, 512),\n",
    "            nn.ReLU(),\n",
    "            nn.Linear(512, 512),\n",
    "            nn.ReLU(),\n",
    "            nn.Linear(512, 10)\n",
    "        )\n",
    "\n",
    "    # Forward pass of the neural network\n",
    "    def forward(self, x):\n",
    "        x = self.flatten(x)\n",
    "        logits = self.linear_relu_stack(x)\n",
    "        return logits"
   ]
  },
  {
   "cell_type": "code",
   "execution_count": 31,
   "metadata": {},
   "outputs": [
    {
     "name": "stdout",
     "output_type": "stream",
     "text": [
      "NeuralNetwork(\n",
      "  (flatten): Flatten(start_dim=1, end_dim=-1)\n",
      "  (linear_relu_stack): Sequential(\n",
      "    (0): Linear(in_features=784, out_features=512, bias=True)\n",
      "    (1): ReLU()\n",
      "    (2): Linear(in_features=512, out_features=512, bias=True)\n",
      "    (3): ReLU()\n",
      "    (4): Linear(in_features=512, out_features=10, bias=True)\n",
      "  )\n",
      ")\n"
     ]
    }
   ],
   "source": [
    "model = NeuralNetwork().to(device)\n",
    "print(model)"
   ]
  },
  {
   "cell_type": "markdown",
   "metadata": {},
   "source": [
    "To use the model, we pass it the input data. This executes `forward`, along with some background operations. Don't call `model.forward` directly!\n",
    "\n",
    "Calling the model on the input returns a 2-dimensional tensor with dim=0 corresponding to each output of 10 raw predicted values for each class, and dim1 corresponding to the individual values of each output.\n",
    "\n",
    "We get the prediction probabilities by passing it through an instance of the `nn.Softmax` module."
   ]
  },
  {
   "cell_type": "code",
   "execution_count": 33,
   "metadata": {},
   "outputs": [
    {
     "name": "stdout",
     "output_type": "stream",
     "text": [
      "Predicted class: tensor([9], device='cuda:0')\n"
     ]
    }
   ],
   "source": [
    "X = torch.rand(1, 28, 28, device=device)\n",
    "logits = model(X)\n",
    "pred_probab = nn.Softmax(dim=1)(logits)\n",
    "y_pred = pred_probab.argmax(1)\n",
    "\n",
    "print(f'Predicted class: {y_pred}')"
   ]
  },
  {
   "cell_type": "markdown",
   "metadata": {},
   "source": [
    "### Model Layers\n",
    "\n",
    "Lets break down the layers in the FashionMNIST model. To illustrate it, we will take a sample minibatch of 3 images of size 28x28 and see what happens to it as we pass through the network."
   ]
  },
  {
   "cell_type": "code",
   "execution_count": 40,
   "metadata": {},
   "outputs": [
    {
     "name": "stdout",
     "output_type": "stream",
     "text": [
      "torch.Size([3, 28, 28])\n"
     ]
    }
   ],
   "source": [
    "input_image = torch.rand(3, 28, 28)\n",
    "print(input_image.size())"
   ]
  },
  {
   "cell_type": "markdown",
   "metadata": {},
   "source": [
    "#### nn.Flatten\n",
    "We initialise the `nn.Flatten` layer to convert each 2D 28x28 image into a contiguous array of 784 pixel values."
   ]
  },
  {
   "cell_type": "code",
   "execution_count": 38,
   "metadata": {},
   "outputs": [
    {
     "name": "stdout",
     "output_type": "stream",
     "text": [
      "torch.Size([3, 784])\n"
     ]
    }
   ],
   "source": [
    "flatten = nn.Flatten()\n",
    "flat_image = flatten(input_image)\n",
    "print(flat_image.size())"
   ]
  },
  {
   "cell_type": "markdown",
   "metadata": {},
   "source": [
    "#### nn.Linear\n",
    "\n",
    "Applies a linear transformation on the input using its stored weights and biases. "
   ]
  },
  {
   "cell_type": "code",
   "execution_count": 39,
   "metadata": {},
   "outputs": [
    {
     "name": "stdout",
     "output_type": "stream",
     "text": [
      "torch.Size([3, 20])\n"
     ]
    }
   ],
   "source": [
    "layer1 = nn.Linear(in_features=28*28, out_features=20)\n",
    "hidden1 = layer1(flat_image)\n",
    "print(hidden1.size())"
   ]
  },
  {
   "cell_type": "markdown",
   "metadata": {},
   "source": [
    "#### nn.ReLU\n",
    "\n",
    "Non-linear activations are what create the complex mappings between the model's inputs and outputs. They are applied after linear transformations to introduce *nonlinearity*, helping neural networks learn a wide variety of phenomena. "
   ]
  },
  {
   "cell_type": "code",
   "execution_count": 41,
   "metadata": {},
   "outputs": [
    {
     "name": "stdout",
     "output_type": "stream",
     "text": [
      "Before ReLU: tensor([[-0.0122, -0.1563, -0.3748,  0.2833,  0.1371,  0.4365, -0.1422,  0.1406,\n",
      "         -0.4617,  0.3461,  0.0291, -0.5032,  0.2111,  0.4624, -0.1422, -0.9650,\n",
      "         -0.4828,  0.3105,  0.2090, -0.0825],\n",
      "        [ 0.0570,  0.1801, -0.0668, -0.2199, -0.1887,  0.3558, -0.0784,  0.0774,\n",
      "         -0.0133,  0.2147,  0.0849, -0.6314,  0.2247,  0.4968, -0.2722, -0.6856,\n",
      "         -0.3613,  0.2745,  0.1639,  0.3564],\n",
      "        [ 0.0508, -0.0383, -0.2446, -0.2077,  0.0045,  0.7524,  0.1269, -0.0858,\n",
      "         -0.1136,  0.0432,  0.0063, -0.3551,  0.3653,  0.3212, -0.3229, -0.8488,\n",
      "         -0.5072, -0.0078, -0.2196,  0.1127]], grad_fn=<AddmmBackward0>)\n",
      "\n",
      "\n",
      "After ReLU: tensor([[0.0000, 0.0000, 0.0000, 0.2833, 0.1371, 0.4365, 0.0000, 0.1406, 0.0000,\n",
      "         0.3461, 0.0291, 0.0000, 0.2111, 0.4624, 0.0000, 0.0000, 0.0000, 0.3105,\n",
      "         0.2090, 0.0000],\n",
      "        [0.0570, 0.1801, 0.0000, 0.0000, 0.0000, 0.3558, 0.0000, 0.0774, 0.0000,\n",
      "         0.2147, 0.0849, 0.0000, 0.2247, 0.4968, 0.0000, 0.0000, 0.0000, 0.2745,\n",
      "         0.1639, 0.3564],\n",
      "        [0.0508, 0.0000, 0.0000, 0.0000, 0.0045, 0.7524, 0.1269, 0.0000, 0.0000,\n",
      "         0.0432, 0.0063, 0.0000, 0.3653, 0.3212, 0.0000, 0.0000, 0.0000, 0.0000,\n",
      "         0.0000, 0.1127]], grad_fn=<ReluBackward0>)\n"
     ]
    }
   ],
   "source": [
    "print(f'Before ReLU: {hidden1}\\n\\n')\n",
    "hidden1 = nn.ReLU()(hidden1)\n",
    "print(f'After ReLU: {hidden1}')"
   ]
  },
  {
   "cell_type": "markdown",
   "metadata": {},
   "source": [
    "#### nn.Sequential\n",
    "\n",
    "An ordered container of modules. The data is passed through all the modules in the same order as defined."
   ]
  },
  {
   "cell_type": "code",
   "execution_count": 42,
   "metadata": {},
   "outputs": [],
   "source": [
    "seq_modules = nn.Sequential(\n",
    "    flatten,\n",
    "    layer1,\n",
    "    nn.ReLU(),\n",
    "    nn.Linear(20, 10)\n",
    ")\n",
    "input_image = torch.rand(3, 28, 28)\n",
    "logits = seq_modules(input_image)"
   ]
  },
  {
   "cell_type": "markdown",
   "metadata": {},
   "source": [
    "#### nn.Softmax\n",
    "\n",
    "The last linear layer of the nn returns logits - raw values in $(-\\inf, \\inf )$ whcih are passed to the `nn.Softmax` module. They are scaled to values $[1, 10]$ representing the modules predicted probabilities for each class. `dim` parameters indicate the the dimension along which the values must sum to 1."
   ]
  },
  {
   "cell_type": "code",
   "execution_count": 43,
   "metadata": {},
   "outputs": [],
   "source": [
    "softmax = nn.Softmax(dim=1)\n",
    "pred_probab = softmax(logits)"
   ]
  },
  {
   "cell_type": "markdown",
   "metadata": {},
   "source": [
    "### Model Parameters\n",
    "\n",
    "Many layers inside a neural network are parameterised, i.e. have associated weights and biases that are optimised during training. Subclassing `nn.Module` automatically tracks all fields defined inside your model object, and makes all parameters accesible using your model's `parameters()` or `named_parameters()` methods. "
   ]
  },
  {
   "cell_type": "code",
   "execution_count": 44,
   "metadata": {},
   "outputs": [
    {
     "name": "stdout",
     "output_type": "stream",
     "text": [
      "Model Structure: NeuralNetwork(\n",
      "  (flatten): Flatten(start_dim=1, end_dim=-1)\n",
      "  (linear_relu_stack): Sequential(\n",
      "    (0): Linear(in_features=784, out_features=512, bias=True)\n",
      "    (1): ReLU()\n",
      "    (2): Linear(in_features=512, out_features=512, bias=True)\n",
      "    (3): ReLU()\n",
      "    (4): Linear(in_features=512, out_features=10, bias=True)\n",
      "  )\n",
      ")\n",
      "\n",
      "\n",
      "Layer: linear_relu_stack.0.weight | Size: torch.Size([512, 784]) | Values: tensor([[-0.0336, -0.0308,  0.0102,  ...,  0.0075,  0.0252,  0.0338],\n",
      "        [ 0.0300, -0.0332, -0.0319,  ...,  0.0160,  0.0347,  0.0057]],\n",
      "       device='cuda:0', grad_fn=<SliceBackward0>) \n",
      "\n",
      "Layer: linear_relu_stack.0.bias | Size: torch.Size([512]) | Values: tensor([ 0.0165, -0.0007], device='cuda:0', grad_fn=<SliceBackward0>) \n",
      "\n",
      "Layer: linear_relu_stack.2.weight | Size: torch.Size([512, 512]) | Values: tensor([[-0.0426, -0.0055, -0.0256,  ..., -0.0396, -0.0243, -0.0113],\n",
      "        [ 0.0137, -0.0153,  0.0105,  ...,  0.0157, -0.0111,  0.0137]],\n",
      "       device='cuda:0', grad_fn=<SliceBackward0>) \n",
      "\n",
      "Layer: linear_relu_stack.2.bias | Size: torch.Size([512]) | Values: tensor([ 0.0087, -0.0224], device='cuda:0', grad_fn=<SliceBackward0>) \n",
      "\n",
      "Layer: linear_relu_stack.4.weight | Size: torch.Size([10, 512]) | Values: tensor([[-0.0092, -0.0366,  0.0262,  ..., -0.0076,  0.0284, -0.0364],\n",
      "        [ 0.0097, -0.0182,  0.0357,  ...,  0.0009,  0.0412, -0.0435]],\n",
      "       device='cuda:0', grad_fn=<SliceBackward0>) \n",
      "\n",
      "Layer: linear_relu_stack.4.bias | Size: torch.Size([10]) | Values: tensor([-0.0376, -0.0101], device='cuda:0', grad_fn=<SliceBackward0>) \n",
      "\n"
     ]
    }
   ],
   "source": [
    "print(f'Model Structure: {model}\\n\\n')\n",
    "\n",
    "for name, param in model.named_parameters():\n",
    "    print(f'Layer: {name} | Size: {param.size()} | Values: {param[:2]} \\n')"
   ]
  },
  {
   "cell_type": "markdown",
   "metadata": {},
   "source": [
    "## Automatic Differentiation with `torch.autograd`\n",
    "\n",
    "When training neural networks, the most frequently used algorithm is *back propagation*. Model weights are adjusted according to the gradient of the loss function wrt the given parameter.\n",
    "\n",
    "To compute these gradients, PyTorch has a built-in differentiation engine called `torch-autograd`. It supports automatic computation of gradient for any computation graph. "
   ]
  },
  {
   "cell_type": "code",
   "execution_count": 50,
   "metadata": {},
   "outputs": [],
   "source": [
    "x = torch.ones(5) # input tensor\n",
    "y = torch.zeros(3) # expected output\n",
    "w = torch.randn(5, 3, requires_grad=True)\n",
    "b = torch.randn(3, requires_grad=True)\n",
    "z = torch.matmul(x, w) + b\n",
    "loss = torch.nn.functional.binary_cross_entropy_with_logits(z, y)"
   ]
  },
  {
   "cell_type": "code",
   "execution_count": 51,
   "metadata": {},
   "outputs": [
    {
     "name": "stdout",
     "output_type": "stream",
     "text": [
      "Gradient function for z = <AddBackward0 object at 0x0000025564411E40>\n",
      "Gradient function for loss = <BinaryCrossEntropyWithLogitsBackward0 object at 0x00000255633ED930>\n"
     ]
    }
   ],
   "source": [
    "print(f'Gradient function for z = {z.grad_fn}')\n",
    "print(f'Gradient function for loss = {loss.grad_fn}')"
   ]
  },
  {
   "cell_type": "markdown",
   "metadata": {},
   "source": [
    "### Computing Gradients\n",
    "\n",
    "To optimise weights, we need to compute derivatives of our loss function with respect to parameters. "
   ]
  },
  {
   "cell_type": "code",
   "execution_count": 52,
   "metadata": {},
   "outputs": [
    {
     "name": "stdout",
     "output_type": "stream",
     "text": [
      "tensor([[0.0006, 0.2967, 0.0180],\n",
      "        [0.0006, 0.2967, 0.0180],\n",
      "        [0.0006, 0.2967, 0.0180],\n",
      "        [0.0006, 0.2967, 0.0180],\n",
      "        [0.0006, 0.2967, 0.0180]])\n",
      "tensor([0.0006, 0.2967, 0.0180])\n"
     ]
    }
   ],
   "source": [
    "loss.backward()\n",
    "print(w.grad)\n",
    "print(b.grad)"
   ]
  },
  {
   "cell_type": "markdown",
   "metadata": {},
   "source": [
    "### Disabling Gradient Tracking\n",
    "\n",
    "By default, all tensors with requires_grad=True are tracking their computational history and support gradient computation. However, there are some cases when we do not need to do that, e.g., when we have trained the model and just want to apply it to some input data."
   ]
  },
  {
   "cell_type": "code",
   "execution_count": 53,
   "metadata": {},
   "outputs": [
    {
     "name": "stdout",
     "output_type": "stream",
     "text": [
      "True\n",
      "False\n"
     ]
    }
   ],
   "source": [
    "z = torch.matmul(x, w) + b\n",
    "\n",
    "print(z.requires_grad)\n",
    "\n",
    "with torch.no_grad():\n",
    "    z = torch.matmul(x, w) + b\n",
    "\n",
    "print(z.requires_grad)"
   ]
  },
  {
   "cell_type": "markdown",
   "metadata": {},
   "source": [
    "## Optimising Model Parameters\n",
    "\n",
    "Now that we have a model and data, it's time to train, validate, and test out model. This is an iterative process; in each iteration the model makes a geuss about the output, calculates the error in its guess (loss), collects the derivatives of the error with respect to its parameters, and optimises those parameters using gradient descent. "
   ]
  },
  {
   "cell_type": "code",
   "execution_count": 83,
   "metadata": {},
   "outputs": [],
   "source": [
    "# Reload the previous code\n",
    "\n",
    "training_data = datasets.FashionMNIST(\n",
    "    root=\"data\",\n",
    "    train=True,\n",
    "    download=True,\n",
    "    transform=ToTensor()\n",
    ")\n",
    "\n",
    "test_data = datasets.FashionMNIST(\n",
    "    root=\"data\",\n",
    "    train=False,\n",
    "    download=True,\n",
    "    transform=ToTensor()\n",
    ")\n",
    "\n",
    "train_dataloader = DataLoader(training_data, batch_size=64)\n",
    "test_dataloader = DataLoader(test_data, batch_size=64)\n",
    "\n",
    "class NeuralNetwork(nn.Module):\n",
    "    def __init__(self):\n",
    "        super().__init__()\n",
    "        self.flatten = nn.Flatten()\n",
    "        self.linear_relu_stack = nn.Sequential(\n",
    "            nn.Linear(28*28, 512),\n",
    "            nn.ReLU(),\n",
    "            nn.Linear(512, 512),\n",
    "            nn.ReLU(),\n",
    "            nn.Linear(512, 10),\n",
    "        )\n",
    "\n",
    "    def forward(self, x):\n",
    "        x = self.flatten(x)\n",
    "        logits = self.linear_relu_stack(x)\n",
    "        return logits\n",
    "\n",
    "model = NeuralNetwork().to(device)"
   ]
  },
  {
   "cell_type": "markdown",
   "metadata": {},
   "source": [
    "### Hyperparameters\n",
    "\n",
    "Adjustable parameters that let you control the model optimisation process. Different hyperparameter values can impact model training and convergence rates.\n",
    "\n",
    "We define three hyperparameters for training:\n",
    "- **Number of Epochs** - the number of times to iterate over the dataset\n",
    "- **Batch Size** - the number of data samples propagated through the network before the parameters are updated\n",
    "- **Learning Rate** - how much to update model parameters at each batch/epoch. Smaller values yield slow learning speed, whilst large values may result in unpredictable behaviour during training"
   ]
  },
  {
   "cell_type": "code",
   "execution_count": 84,
   "metadata": {},
   "outputs": [],
   "source": [
    "learning_rate = 1e-3\n",
    "batch_size = 64\n",
    "epochs = 5"
   ]
  },
  {
   "cell_type": "markdown",
   "metadata": {},
   "source": [
    "### Optimisation Loop\n",
    "\n",
    "Once we set our hyperparameters, we can then train and optimise our model with an optimisation loop. Each iteration of the optimisation loop is called an epoch.\n",
    "\n",
    "Each epoch consists of two main parts:\n",
    "- **The Train Loop** - iterate over the training dataset and try to converge to optimal parameters\n",
    "- **The Validation Test**  - iterate over the test dataset to check if model performance is improving\n",
    "\n",
    "#### Loss Function\n",
    "Measures the degree of dissimilarity of obtained result to the target value, we want to minimise this during training. \n",
    "\n",
    "Some common loss functions are\n",
    "- `nn.MSElLoss` (Mean Square Error) for regression tasks\n",
    "- `nn.NLLLoss` (Negative Log Likelihood) for classification\n",
    "- `nn.CrossEntropyLoss` combines `nn.LogSoftmax` and `nn.NLLLoss`."
   ]
  },
  {
   "cell_type": "code",
   "execution_count": 85,
   "metadata": {},
   "outputs": [],
   "source": [
    "# Initialise the Loss Function\n",
    "loss_fn = nn.CrossEntropyLoss()"
   ]
  },
  {
   "cell_type": "markdown",
   "metadata": {},
   "source": [
    "#### Optimiser\n",
    "\n",
    "Stochastic Gradient Descent (SGD) is the optimisation algorithm we choose to use here. There are many different options available. "
   ]
  },
  {
   "cell_type": "code",
   "execution_count": 86,
   "metadata": {},
   "outputs": [],
   "source": [
    "# Initialise the optimiser\n",
    "optimiser = torch.optim.SGD(model.parameters(), lr=learning_rate)"
   ]
  },
  {
   "cell_type": "markdown",
   "metadata": {},
   "source": [
    "Inside the training loop, optimisation happens in three steps:\n",
    "- Call `optimiser.zero_grad()` to reset the gradients of model parameters. Gradients by default add up; to prevent double-counting, we explicitely zero them at each iteration\n",
    "- Backpropagate the prediction loss with a call to `loss.backward()`\n",
    "- Once we have our gradients, call `optimiser.step()` to adjust the parameters by the gradients collected in the backward pass. \n",
    "\n",
    "### Full Implementation"
   ]
  },
  {
   "cell_type": "code",
   "execution_count": 90,
   "metadata": {},
   "outputs": [],
   "source": [
    "def train_loop(dataloader, model, loss_fn, optimiser):\n",
    "    size = len(dataloader.dataset)\n",
    "    \n",
    "    # Set the model to rtaining mode - important for batch normalisation and dropout layers\n",
    "    model.train()\n",
    "\n",
    "    for batch, (X, y) in enumerate(dataloader):\n",
    "        # Move data to the appropriate device\n",
    "        X, y = X.to(device), y.to(device)\n",
    "\n",
    "        # Compute prediction and loss\n",
    "        pred = model(X)\n",
    "        loss = loss_fn(pred, y)\n",
    "\n",
    "        # Backpropagation\n",
    "        loss.backward()\n",
    "        optimiser.step()\n",
    "        optimiser.zero_grad()\n",
    "\n",
    "        if batch % 100 == 0:\n",
    "            loss, current = loss.item(), (batch + 1) * len(X)\n",
    "            print(f'loss: {loss:>7f} [{current:>5d} / {size:>5d}]')\n",
    "\n",
    "def test_loop(dataloader, model, loss_fn):\n",
    "    # Set the model to evaluation mode\n",
    "    model.eval()\n",
    "\n",
    "    size = len(dataloader.dataset)\n",
    "    num_batches = len(dataloader)\n",
    "    test_loss, correct = 0, 0\n",
    "\n",
    "    # Ensure no gradients are computed during test mode\n",
    "    with torch.no_grad():\n",
    "        for X, y in dataloader:\n",
    "            # Move data to the appropriate device\n",
    "            X, y = X.to(device), y.to(device)\n",
    "\n",
    "            pred = model(X)\n",
    "            test_loss += loss_fn(pred, y).item()\n",
    "            correct += (pred.argmax(1) == y).type(torch.float).sum().item()\n",
    "\n",
    "    test_loss /= num_batches\n",
    "    correct /= size\n",
    "\n",
    "    print(f'Test Error: \\n Accuracy: {100*correct:>0.1f}%, Avg loss: {test_loss:>8f} \\n')\n"
   ]
  },
  {
   "cell_type": "code",
   "execution_count": 91,
   "metadata": {},
   "outputs": [
    {
     "name": "stdout",
     "output_type": "stream",
     "text": [
      "Epoch 1\n",
      "----------------------------------------\n",
      "loss: 2.163063 [   64 / 60000]\n",
      "loss: 2.153324 [ 6464 / 60000]\n",
      "loss: 2.095211 [12864 / 60000]\n",
      "loss: 2.115778 [19264 / 60000]\n",
      "loss: 2.058403 [25664 / 60000]\n",
      "loss: 1.989292 [32064 / 60000]\n",
      "loss: 2.027924 [38464 / 60000]\n",
      "loss: 1.934805 [44864 / 60000]\n",
      "loss: 1.955575 [51264 / 60000]\n",
      "loss: 1.875955 [57664 / 60000]\n",
      "Test Error: \n",
      " Accuracy: 56.6%, Avg loss: 1.876890 \n",
      "\n",
      "Epoch 2\n",
      "----------------------------------------\n",
      "loss: 1.917874 [   64 / 60000]\n",
      "loss: 1.880631 [ 6464 / 60000]\n",
      "loss: 1.766877 [12864 / 60000]\n",
      "loss: 1.813779 [19264 / 60000]\n",
      "loss: 1.695910 [25664 / 60000]\n",
      "loss: 1.649460 [32064 / 60000]\n",
      "loss: 1.676372 [38464 / 60000]\n",
      "loss: 1.570293 [44864 / 60000]\n",
      "loss: 1.608298 [51264 / 60000]\n",
      "loss: 1.500020 [57664 / 60000]\n",
      "Test Error: \n",
      " Accuracy: 60.3%, Avg loss: 1.516606 \n",
      "\n",
      "Epoch 3\n",
      "----------------------------------------\n",
      "loss: 1.593042 [   64 / 60000]\n",
      "loss: 1.547595 [ 6464 / 60000]\n",
      "loss: 1.404408 [12864 / 60000]\n",
      "loss: 1.476381 [19264 / 60000]\n",
      "loss: 1.352938 [25664 / 60000]\n",
      "loss: 1.354587 [32064 / 60000]\n",
      "loss: 1.366504 [38464 / 60000]\n",
      "loss: 1.286838 [44864 / 60000]\n",
      "loss: 1.331530 [51264 / 60000]\n",
      "loss: 1.232615 [57664 / 60000]\n",
      "Test Error: \n",
      " Accuracy: 62.8%, Avg loss: 1.254475 \n",
      "\n",
      "Epoch 4\n",
      "----------------------------------------\n",
      "loss: 1.339499 [   64 / 60000]\n",
      "loss: 1.311679 [ 6464 / 60000]\n",
      "loss: 1.153704 [12864 / 60000]\n",
      "loss: 1.258702 [19264 / 60000]\n",
      "loss: 1.126494 [25664 / 60000]\n",
      "loss: 1.157110 [32064 / 60000]\n",
      "loss: 1.174255 [38464 / 60000]\n",
      "loss: 1.107339 [44864 / 60000]\n",
      "loss: 1.158391 [51264 / 60000]\n",
      "loss: 1.074919 [57664 / 60000]\n",
      "Test Error: \n",
      " Accuracy: 64.4%, Avg loss: 1.091348 \n",
      "\n",
      "Epoch 5\n",
      "----------------------------------------\n",
      "loss: 1.167853 [   64 / 60000]\n",
      "loss: 1.160904 [ 6464 / 60000]\n",
      "loss: 0.988488 [12864 / 60000]\n",
      "loss: 1.124312 [19264 / 60000]\n",
      "loss: 0.986940 [25664 / 60000]\n",
      "loss: 1.024409 [32064 / 60000]\n",
      "loss: 1.054961 [38464 / 60000]\n",
      "loss: 0.993223 [44864 / 60000]\n",
      "loss: 1.046517 [51264 / 60000]\n",
      "loss: 0.975367 [57664 / 60000]\n",
      "Test Error: \n",
      " Accuracy: 65.8%, Avg loss: 0.986010 \n",
      "\n",
      "Epoch 6\n",
      "----------------------------------------\n",
      "loss: 1.048862 [   64 / 60000]\n",
      "loss: 1.062493 [ 6464 / 60000]\n",
      "loss: 0.875587 [12864 / 60000]\n",
      "loss: 1.034514 [19264 / 60000]\n",
      "loss: 0.898601 [25664 / 60000]\n",
      "loss: 0.930513 [32064 / 60000]\n",
      "loss: 0.976317 [38464 / 60000]\n",
      "loss: 0.918726 [44864 / 60000]\n",
      "loss: 0.968992 [51264 / 60000]\n",
      "loss: 0.907610 [57664 / 60000]\n",
      "Test Error: \n",
      " Accuracy: 67.1%, Avg loss: 0.913749 \n",
      "\n",
      "Epoch 7\n",
      "----------------------------------------\n",
      "loss: 0.961039 [   64 / 60000]\n",
      "loss: 0.993245 [ 6464 / 60000]\n",
      "loss: 0.794236 [12864 / 60000]\n",
      "loss: 0.970171 [19264 / 60000]\n",
      "loss: 0.839237 [25664 / 60000]\n",
      "loss: 0.861109 [32064 / 60000]\n",
      "loss: 0.920528 [38464 / 60000]\n",
      "loss: 0.868334 [44864 / 60000]\n",
      "loss: 0.912917 [51264 / 60000]\n",
      "loss: 0.858154 [57664 / 60000]\n",
      "Test Error: \n",
      " Accuracy: 68.4%, Avg loss: 0.861281 \n",
      "\n",
      "Epoch 8\n",
      "----------------------------------------\n",
      "loss: 0.893294 [   64 / 60000]\n",
      "loss: 0.941002 [ 6464 / 60000]\n",
      "loss: 0.733194 [12864 / 60000]\n",
      "loss: 0.921414 [19264 / 60000]\n",
      "loss: 0.796849 [25664 / 60000]\n",
      "loss: 0.808244 [32064 / 60000]\n",
      "loss: 0.877961 [38464 / 60000]\n",
      "loss: 0.832784 [44864 / 60000]\n",
      "loss: 0.870482 [51264 / 60000]\n",
      "loss: 0.819773 [57664 / 60000]\n",
      "Test Error: \n",
      " Accuracy: 69.6%, Avg loss: 0.821214 \n",
      "\n",
      "Epoch 9\n",
      "----------------------------------------\n",
      "loss: 0.838592 [   64 / 60000]\n",
      "loss: 0.899043 [ 6464 / 60000]\n",
      "loss: 0.685466 [12864 / 60000]\n",
      "loss: 0.883092 [19264 / 60000]\n",
      "loss: 0.764988 [25664 / 60000]\n",
      "loss: 0.767335 [32064 / 60000]\n",
      "loss: 0.843391 [38464 / 60000]\n",
      "loss: 0.806406 [44864 / 60000]\n",
      "loss: 0.837443 [51264 / 60000]\n",
      "loss: 0.788635 [57664 / 60000]\n",
      "Test Error: \n",
      " Accuracy: 70.8%, Avg loss: 0.789346 \n",
      "\n",
      "Epoch 10\n",
      "----------------------------------------\n",
      "loss: 0.793026 [   64 / 60000]\n",
      "loss: 0.863530 [ 6464 / 60000]\n",
      "loss: 0.646939 [12864 / 60000]\n",
      "loss: 0.852184 [19264 / 60000]\n",
      "loss: 0.739681 [25664 / 60000]\n",
      "loss: 0.735252 [32064 / 60000]\n",
      "loss: 0.813978 [38464 / 60000]\n",
      "loss: 0.785695 [44864 / 60000]\n",
      "loss: 0.810838 [51264 / 60000]\n",
      "loss: 0.762665 [57664 / 60000]\n",
      "Test Error: \n",
      " Accuracy: 72.2%, Avg loss: 0.762977 \n",
      "\n",
      "Done!\n"
     ]
    }
   ],
   "source": [
    "loss_fn = nn.CrossEntropyLoss()\n",
    "optimiser = torch.optim.SGD(model.parameters(), lr=learning_rate)\n",
    "\n",
    "epochs = 10\n",
    "for t in range(epochs):\n",
    "    print(f'Epoch {t+1}')\n",
    "    print('-'*40)\n",
    "    train_loop(train_dataloader, model, loss_fn, optimiser)\n",
    "    test_loop(test_dataloader, model, loss_fn)\n",
    "\n",
    "print('Done!')\n"
   ]
  },
  {
   "cell_type": "markdown",
   "metadata": {},
   "source": [
    "### Save and Load the Model\n",
    "\n",
    "We can save the optimised weights."
   ]
  },
  {
   "cell_type": "code",
   "execution_count": 92,
   "metadata": {},
   "outputs": [],
   "source": [
    "torch.save(model.state_dict(), 'model_weights.pth')"
   ]
  },
  {
   "cell_type": "markdown",
   "metadata": {},
   "source": [
    "To load model weights, you need to create an instance of the same model first, then use"
   ]
  },
  {
   "cell_type": "code",
   "execution_count": 93,
   "metadata": {},
   "outputs": [
    {
     "data": {
      "text/plain": [
       "NeuralNetwork(\n",
       "  (flatten): Flatten(start_dim=1, end_dim=-1)\n",
       "  (linear_relu_stack): Sequential(\n",
       "    (0): Linear(in_features=784, out_features=512, bias=True)\n",
       "    (1): ReLU()\n",
       "    (2): Linear(in_features=512, out_features=512, bias=True)\n",
       "    (3): ReLU()\n",
       "    (4): Linear(in_features=512, out_features=10, bias=True)\n",
       "  )\n",
       ")"
      ]
     },
     "execution_count": 93,
     "metadata": {},
     "output_type": "execute_result"
    }
   ],
   "source": [
    "trained_model = NeuralNetwork()\n",
    "trained_model.load_state_dict(torch.load('model_weights.pth'))\n",
    "trained_model.eval()"
   ]
  },
  {
   "cell_type": "markdown",
   "metadata": {},
   "source": [
    "We can save the structure of the model class together with the weights"
   ]
  },
  {
   "cell_type": "code",
   "execution_count": 94,
   "metadata": {},
   "outputs": [],
   "source": [
    "torch.save(model, 'model.pth')"
   ]
  },
  {
   "cell_type": "code",
   "execution_count": 96,
   "metadata": {},
   "outputs": [
    {
     "data": {
      "text/plain": [
       "NeuralNetwork(\n",
       "  (flatten): Flatten(start_dim=1, end_dim=-1)\n",
       "  (linear_relu_stack): Sequential(\n",
       "    (0): Linear(in_features=784, out_features=512, bias=True)\n",
       "    (1): ReLU()\n",
       "    (2): Linear(in_features=512, out_features=512, bias=True)\n",
       "    (3): ReLU()\n",
       "    (4): Linear(in_features=512, out_features=10, bias=True)\n",
       "  )\n",
       ")"
      ]
     },
     "execution_count": 96,
     "metadata": {},
     "output_type": "execute_result"
    }
   ],
   "source": [
    "trained_model_2 = torch.load('model.pth')\n",
    "trained_model_2.eval()"
   ]
  }
 ],
 "metadata": {
  "kernelspec": {
   "display_name": "Python 3",
   "language": "python",
   "name": "python3"
  },
  "language_info": {
   "codemirror_mode": {
    "name": "ipython",
    "version": 3
   },
   "file_extension": ".py",
   "mimetype": "text/x-python",
   "name": "python",
   "nbconvert_exporter": "python",
   "pygments_lexer": "ipython3",
   "version": "3.10.7"
  },
  "orig_nbformat": 4
 },
 "nbformat": 4,
 "nbformat_minor": 2
}
